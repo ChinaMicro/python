{
 "cells": [
  {
   "cell_type": "code",
   "execution_count": 19,
   "metadata": {
    "scrolled": true
   },
   "outputs": [
    {
     "name": "stdout",
     "output_type": "stream",
     "text": [
      "[[ 0  0  5 15 15  3  0  0]\n",
      " [ 0  0 11  7  4  7  0  0]\n",
      " [ 0  0 10  5  4  6  0  0]\n",
      " [ 0  0  4 16 15  1  0  0]\n",
      " [ 0  2 14 15 13  4  0  0]\n",
      " [ 1  5 12  0  2 12  0  0]\n",
      " [ 0  1 15  5  8 11  0  0]\n",
      " [ 0  0  8 15 14  4  1  0]]\n",
      "[4 9 0 8 9]\n",
      "[[ 0  0  5 15 15  3  0  0  0  0 11  7  4  7  0  0  0  0 10  5  4  6  0  0\n",
      "   0  0  4 16 15  1  0  0  0  2 14 15 13  4  0  0  1  5 12  0  2 12  0  0\n",
      "   0  1 15  5  8 11  0  0  0  0  8 15 14  4  1  0]]\n",
      "[8]\n"
     ]
    },
    {
     "data": {
      "text/plain": [
       "<matplotlib.image.AxesImage at 0xbcb74e0>"
      ]
     },
     "execution_count": 19,
     "metadata": {},
     "output_type": "execute_result"
    },
    {
     "data": {
      "image/png": "[encoded data removed]",
      "text/plain": [
       "<matplotlib.figure.Figure at 0xbc30080>"
      ]
     },
     "metadata": {},
     "output_type": "display_data"
    }
   ],
   "source": [
    "# 数字识别练习一 2019.2.28 \n",
    "\n",
    "#import sys\n",
    "import cv2\n",
    "import numpy as np\n",
    "import matplotlib.pyplot as plt\n",
    "\n",
    "input_file = 'capture_num_w.jpg'# sys.argv[1]\n",
    "img = cv2.imread(input_file) # 读入图像文件转成矩阵\n",
    "#cv2.imshow('Original', img)\n",
    "#cv2.waitKey()\n",
    "img_gray = cv2.cvtColor(img, cv2.COLOR_BGR2GRAY) # 灰度化\n",
    "#cv2.imshow('Input grayscale image', img_gray)\n",
    "#cv2.waitKey()\n",
    "img_scaled = cv2.resize(img_gray, (8, 8), interpolation=cv2.INTER_AREA) # 缩至8*8像素\n",
    "#cv2.imshow('Skewed resizing', img_scaled)\n",
    "#cv2.waitKey()\n",
    "\n",
    "img_gray_scaled_8 = img_scaled // 15 # 256色减至16色\n",
    "print(img_gray_scaled_8)\n",
    "\n",
    "plt.imshow(img_gray_scaled_8, cmap='binary',extent=[0,7,0,7])\n",
    "\n",
    "# 识别图像\n",
    "from sklearn import datasets\n",
    "digits = datasets.load_digits() # 导入数字数据集\n",
    "\n",
    "from sklearn import svm #向量分析\n",
    "svc = svm.SVC(gamma=0.001, C=100.)\n",
    "svc.fit(digits.data[1:1790], digits.target[1:1790]) # 准备训练数据和测试数据\n",
    "svm.SVC(C=100.0, cache_size=200, class_weight=None, coef0=0.0, degree=3, \n",
    "    gamma=0.01, kernel='rbf', max_iter=-1, probability=False, \n",
    "    random_state=None, shrinking=True, tol=0.001, verbose=False) #训练识别器\n",
    "#print(svc.predict(digits.data[1791:1796])) # 预测值\n",
    "print(digits.target[1791:1796]) # 原库值\n",
    "test= img_gray_scaled_8.reshape(1, -1) # 预测对象要一维矩阵\n",
    "print(test)\n",
    "print(svc.predict(test)) # 预测结果的数字 \n",
    "\n",
    "test = test.reshape(8, 8) #[8 * 8]\n",
    "plt.imshow(test,cmap=plt.cm.gray_r,interpolation='nearest') # 画16色8*8灰度图像。\n"
   ]
  },
  {
   "cell_type": "code",
   "execution_count": 1,
   "metadata": {
    "scrolled": false
   },
   "outputs": [
    {
     "data": {
      "text/plain": [
       "<matplotlib.figure.Figure at 0x83dec18>"
      ]
     },
     "metadata": {},
     "output_type": "display_data"
    },
    {
     "name": "stdout",
     "output_type": "stream",
     "text": [
      "[[11 12 11 ... 13 13 13]\n",
      " [11 11 11 ... 13 13 13]\n",
      " [11 11 11 ... 13 13 13]\n",
      " ...\n",
      " [ 0  0  0 ...  3  3  3]\n",
      " [ 0  0  0 ...  3  3  3]\n",
      " [ 0  0  0 ...  3  3  3]]\n"
     ]
    }
   ],
   "source": [
    "from PIL import Image\n",
    "import matplotlib.pyplot as plt\n",
    "import numpy as np\n",
    "\n",
    "img=Image.open('capture.jpg')  #打开图像\n",
    "gray=img.convert('L')   #转换成灰度\n",
    "r,g,b=img.split()   #分离三通道\n",
    "pic=Image.merge('RGB',(r,g,b)) #合并三通道\n",
    "img_0 = np.array(img)\n",
    "img_3 = img_0 // 3 # 255/3=85\n",
    "gray_15 = np.array(gray)\n",
    "gray_15 = gray_15 // 15\n",
    "img_15 = img_0 //15 # 255/15~16\n",
    "\n",
    "\n",
    "plt.figure(\"capture\")\n",
    "plt.subplot(2,3,1), plt.title('origin')\n",
    "plt.imshow(img),plt.axis('off')\n",
    "\n",
    "plt.subplot(2,3,2), plt.title('img_0')\n",
    "plt.imshow(img_0),plt.axis('off')\n",
    "\n",
    "plt.subplot(2,3,3), plt.title('img_3')\n",
    "plt.imshow(img_3),plt.axis('off')\n",
    "\n",
    "plt.subplot(2,3,4), plt.title('img_15')\n",
    "plt.imshow(gray_15,cmap='binary'),plt.axis('off')\n",
    "\n",
    "# plt.imshow(img_15,cmap=plt.cm.gray_r,interpolation='nearest') # 画16色8*8灰度图像。\n",
    "plt.imshow(img_15,cmap='binary',interpolation='none',extent=[0,7,0,7]) # cmap='binary'灰，extent=8*8\n",
    "plt.show()\n",
    "#plt.imshow(img) # 显示jpg图像\n",
    "\n",
    "plt.imshow(gray_15, cmap='binary',extent=[0,7,0,7])\n",
    "print(gray_15)\n"
   ]
  },
  {
   "cell_type": "code",
   "execution_count": null,
   "metadata": {},
   "outputs": [],
   "source": [
    "# video_capture.py\n",
    "# 10.2 从网络摄像头采集和处理图像信息\n",
    "import cv2\n",
    "\n",
    "# Initialize video capture object 初始化网络摄像头，第一个标记为0。\n",
    "cap = cv2.VideoCapture(0)\n",
    "\n",
    "# Define the image size scaling factor定义摄像头采集图像的比例系数\n",
    "scaling_factor = 0.5\n",
    "\n",
    "# Loop until you hit the Esc key启动无限循环采集帧，直至按下ESC键。\n",
    "while True:\n",
    "    # Capture the current frame从摄像头读取画面\n",
    "    ret, frame = cap.read()\n",
    "    #print(ret)\n",
    "    # Resize the frame 调整帧大小，不是必须但在编写代码很重要。\n",
    "    frame = cv2.resize(frame, None, fx=scaling_factor, fy=scaling_factor, interpolation=cv2.INTER_AREA)\n",
    "\n",
    "    # Display the image 显示帧\n",
    "    cv2.imshow('Webcam', frame)\n",
    "\n",
    "    # Detect if the Esc key has been pressed 侦测ESC键\n",
    "    c = cv2.waitKey(1) # 等待1秒，然后采集下一帧。\n",
    "    if c == 27:\n",
    "        break\n",
    "# save image \n",
    "while True:\n",
    "    c = cv2.waitKey(1)\n",
    "    if c == 27:\n",
    "        output_file = 'capture_number.jpg'\t# input_file[:-4] + '_cropped.jpg'\t\t\n",
    "        img_cropped = frame\n",
    "        cv2.imwrite(output_file, img_cropped)\n",
    "        break\n",
    "   \n",
    "    # Release the video capture object\n",
    "cap.release()\n",
    "\n",
    "# Close all active windows\n",
    "cv2.destroyAllWindows()"
   ]
  },
  {
   "cell_type": "code",
   "execution_count": 1,
   "metadata": {},
   "outputs": [
    {
     "name": "stdout",
     "output_type": "stream",
     "text": [
      "(8, 8, 3)\n"
     ]
    },
    {
     "data": {
      "text/plain": [
       "-1"
      ]
     },
     "execution_count": 1,
     "metadata": {},
     "output_type": "execute_result"
    }
   ],
   "source": [
    "# operating_on_images.py 调整图像尺寸，可以用其他方法。\n",
    "# 9.2 用OpenCV-Python操作图像\n",
    "import sys\n",
    "import cv2\n",
    "# https://www.lfd.uci.edu/~gohlke/pythonlibs/ 先下载，再安装\n",
    "# https://www.cnblogs.com/mjk961/p/9129211.html 安装学习\n",
    "# pip3 install opencv-python 安装命令\n",
    "import numpy as np\n",
    "\n",
    "# Load and display an image -- 'forest.jpg'\n",
    "\n",
    "input_file = 'capture.jpg'# sys.argv[1]\n",
    "img = cv2.imread(input_file)\n",
    "cv2.imshow('Original', img)\n",
    "\n",
    "# 仅在某一维调整\n",
    "img_scaled = cv2.resize(img, (8, 8), interpolation=cv2.INTER_AREA)\n",
    "cv2.imshow('Skewed resizing', img_scaled)\n",
    "print(img_scaled.shape)\n",
    "# Save an image保存图像\n",
    "output_file = input_file[:-4] + '_scaled.jpg'\n",
    "cv2.imwrite(output_file, img_scaled)\n",
    "\n",
    "cv2.waitKey()\n"
   ]
  },
  {
   "cell_type": "code",
   "execution_count": 8,
   "metadata": {},
   "outputs": [
    {
     "ename": "TypeError",
     "evalue": "'int' object is not callable",
     "output_type": "error",
     "traceback": [
      "\u001b[1;31m---------------------------------------------------------------------------\u001b[0m",
      "\u001b[1;31mTypeError\u001b[0m                                 Traceback (most recent call last)",
      "\u001b[1;32m<ipython-input-8-44b99e2a6887>\u001b[0m in \u001b[0;36m<module>\u001b[1;34m()\u001b[0m\n\u001b[0;32m      7\u001b[0m \u001b[1;31m# Load input image -- 'sunrise.jpg'\u001b[0m\u001b[1;33m\u001b[0m\u001b[1;33m\u001b[0m\u001b[0m\n\u001b[0;32m      8\u001b[0m \u001b[0minput_file\u001b[0m \u001b[1;33m=\u001b[0m \u001b[1;34m'capture.jpg'\u001b[0m \u001b[1;31m# sys.argv[1]\u001b[0m\u001b[1;33m\u001b[0m\u001b[0m\n\u001b[1;32m----> 9\u001b[1;33m \u001b[0mimg\u001b[0m \u001b[1;33m=\u001b[0m \u001b[0mcv2\u001b[0m\u001b[1;33m.\u001b[0m\u001b[0mIMREAD_GRAYSCALE\u001b[0m\u001b[1;33m(\u001b[0m\u001b[0minput_file\u001b[0m\u001b[1;33m)\u001b[0m \u001b[1;31m# imread(input_file)\u001b[0m\u001b[1;33m\u001b[0m\u001b[0m\n\u001b[0m\u001b[0;32m     10\u001b[0m \u001b[0mprint\u001b[0m\u001b[1;33m(\u001b[0m\u001b[0mimg\u001b[0m\u001b[1;33m.\u001b[0m\u001b[0mshape\u001b[0m\u001b[1;33m)\u001b[0m\u001b[1;33m\u001b[0m\u001b[0m\n\u001b[0;32m     11\u001b[0m \u001b[1;31m# Convert it to grayscale 灰度\u001b[0m\u001b[1;33m\u001b[0m\u001b[1;33m\u001b[0m\u001b[0m\n",
      "\u001b[1;31mTypeError\u001b[0m: 'int' object is not callable"
     ]
    }
   ],
   "source": [
    "# histogram_equalizer.py\n",
    "# 9.4 直方图均衡化\n",
    "import sys\n",
    "import cv2\n",
    "import numpy as np\n",
    "\n",
    "# Load input image -- 'sunrise.jpg'\n",
    "input_file = 'capture.jpg' # sys.argv[1]\n",
    "img = cv2.IMREAD_GRAYSCALE(input_file) # imread(input_file)\n",
    "print(img.shape)\n",
    "# Convert it to grayscale 灰度\n",
    "img_gray = cv2.cvtColor(img, cv2.COLOR_BGR2GRAY)\n",
    "cv2.imshow('Input grayscale image', img_gray)\n",
    "print(img_gray.shape)"
   ]
  },
  {
   "cell_type": "code",
   "execution_count": 8,
   "metadata": {},
   "outputs": [
    {
     "data": {
      "image/png": "[encoded data removed]",
      "text/plain": [
       "<matplotlib.figure.Figure at 0x89349b0>"
      ]
     },
     "metadata": {},
     "output_type": "display_data"
    },
    {
     "data": {
      "image/png": "[encoded data removed]",
      "text/plain": [
       "<matplotlib.figure.Figure at 0x9e1e5f8>"
      ]
     },
     "metadata": {},
     "output_type": "display_data"
    }
   ],
   "source": [
    "# 数据科学导论 6.1.6图像可视化 只对digits原库操作显示\n",
    "import matplotlib.pyplot as plt\n",
    "from sklearn.datasets import load_digits\n",
    "digits = load_digits()\n",
    "\n",
    "for number in range(1,10):\n",
    "    plt.subplot(3,3,number)\n",
    "    plt.imshow(digits.images[number],interpolation='none',extent=[0,7,0,7]) # 0,8,0,8\n",
    "    plt.grid()\n",
    "plt.show()\n",
    "\n",
    "plt.imshow(digits.images[1],interpolation='none',cmap='binary',extent=[0,7,0,7]) # cmap='binary'灰，extent=8*8\n",
    "# Extent defines the images max and min of the horizontal and vertical valuse\n",
    "plt.grid()\n",
    "plt.show()\n",
    "\n"
   ]
  },
  {
   "cell_type": "code",
   "execution_count": 14,
   "metadata": {},
   "outputs": [],
   "source": [
    "# visualize_characters.py\n",
    "# 11.7 在光学字符识数据别库中将字符可视化\n",
    "import os\n",
    "import sys\n",
    "\n",
    "import cv2\n",
    "import numpy as np\n",
    "\n",
    "# Load input data \n",
    "# http://ai.stanford.edu/~btaskar/ocr\n",
    "input_file = 'letter.data' \n",
    "\n",
    "# Define visualization parameters 定义可视化参数\n",
    "scaling_factor = 10\n",
    "start_index = 6\n",
    "end_index = -1\n",
    "h, w = 16, 8\n",
    "\n",
    "# Loop until you encounter the Esc key 循环至用户按下ESC键。用Tab分隔符将行分割成字符\n",
    "with open(input_file, 'r') as f:\n",
    "    for line in f.readlines():\n",
    "        data = np.array([255*float(x) for x in line.split('\\t')[start_index:end_index]])\n",
    "        # '\\t'——按Tab键分割。\n",
    "        # 数组调整为所需的形状。调整大小，展示\n",
    "        img = np.reshape(data, (h,w))\n",
    "        # reshape(数组，(行，列)) 改变维度。\n",
    "        img_scaled = cv2.resize(img, None, fx=scaling_factor, fy=scaling_factor)\n",
    "        cv2.imshow('Image', img_scaled)\n",
    "        c = cv2.waitKey()\n",
    "        if c == 27:    # 按下ESC终止循环\n",
    "            break"
   ]
  },
  {
   "cell_type": "code",
   "execution_count": 1,
   "metadata": {},
   "outputs": [],
   "source": [
    "# 灰度化\n",
    "import cv2\n",
    "import numpy as np\n",
    "img2=cv2.imread('capture.jpg')\n",
    "img2gray=cv2.cvtColor(img2,cv2.COLOR_BGR2GRAY)\n",
    "ret, mask = cv2.threshold(img2gray, 85, 255, cv2.THRESH_BINARY)\n",
    "cv2.imshow('image',img2gray)\n",
    "cv2.waitKey(0)\n",
    "cv2.destroyAllWindows()\n"
   ]
  },
  {
   "cell_type": "code",
   "execution_count": 46,
   "metadata": {
    "scrolled": true
   },
   "outputs": [
    {
     "name": "stdout",
     "output_type": "stream",
     "text": [
      "[[178 182 180 ... 208 207 206]\n",
      " [176 179 178 ... 208 207 207]\n",
      " [177 179 178 ... 208 208 207]\n",
      " ...\n",
      " [  0   0   0 ...  58  59  59]\n",
      " [  0   0   0 ...  56  57  58]\n",
      " [  0   0   0 ...  56  57  58]]\n",
      "240 320\n"
     ]
    },
    {
     "data": {
      "image/png": "[encoded data removed]",
      "text/plain": [
       "<matplotlib.figure.Figure at 0xaa5bba8>"
      ]
     },
     "metadata": {},
     "output_type": "display_data"
    }
   ],
   "source": [
    "# edge_detector.py\n",
    "# 9.3 检测边\n",
    "import sys\n",
    "import cv2\n",
    "import numpy as np\n",
    "import matplotlib.pyplot as plt\n",
    "# Load the input image -- 'chair.jpg'\n",
    "# Convert it to grayscale 转换成灰度图\n",
    "input_file = 'capture.jpg' # 'chair.jpg' #sys.argv[1]\n",
    "img = cv2.imread(input_file, cv2.IMREAD_GRAYSCALE)\n",
    "# 提取图像高，宽\n",
    "h, w = img.shape\n",
    "plt.imshow(img,cmap=plt.cm.gray,interpolation='nearest') # cmap.cm.gray_r 翻转成底片\n",
    "plt.imshow(img,cmap=plt.cm.gray_r,interpolation='nearest') # 画16色8*8灰度图像。digits.images[1793]\n",
    "print(img)\n",
    "print(h, w)"
   ]
  },
  {
   "cell_type": "code",
   "execution_count": 52,
   "metadata": {
    "scrolled": true
   },
   "outputs": [
    {
     "name": "stdout",
     "output_type": "stream",
     "text": [
      "[[188 201 203 208 137  88 118 197]\n",
      " [177 197 199 205 128 120 121 187]\n",
      " [161 188 191 192 143 110 151 184]\n",
      " [147 182 184 191 150  85 168 171]\n",
      " [131 173 170 107  59  68 138 155]\n",
      " [110 166 106  31  28  46  62  84]\n",
      " [ 95 150  50  39  49  56  56  51]\n",
      " [ 80 117  20  33  38  42  39  46]]\n"
     ]
    }
   ],
   "source": [
    "# 图像jpg灰度化、改尺寸、矩阵化\n",
    "#coding=utf-8\n",
    "# 灰度化\n",
    "from PIL import Image #需要下载并安装PIL（python的一个image图像处理库）\n",
    "\n",
    "infile = 'capture.jpg' #原始图像路径\n",
    "outfile= 'capture_1.jpg' #灰度化后的图像路径\n",
    "im = Image.open(infile).convert('L') #灰度化\n",
    "out = im.resize((8,8),Image.ANTIALIAS) #重新定义图片尺寸大小\n",
    "out.show() \n",
    "out.save(outfile) #存储图片文件\n",
    "\n",
    "# 矩阵化\n",
    "\"\"\"\n",
    "from skimage import io,transform\n",
    "img_file2 = io.imread(outfile) # 只能读文件\n",
    "print (\"the picture's shape2 : \", img_file2.shape)\n",
    "print(img_file2) \n",
    "\"\"\"\n",
    "# np方法比skimage方法得到的矩阵点的值不一样。最后看用作预测效果如何。\n",
    "import numpy as np\n",
    "i = np.array(out)\n",
    "print(i)\n",
    "\n"
   ]
  },
  {
   "cell_type": "code",
   "execution_count": 88,
   "metadata": {
    "scrolled": true
   },
   "outputs": [
    {
     "name": "stdout",
     "output_type": "stream",
     "text": [
      "[4 9 0 8 9]\n",
      "[[ 0.  0.  6. 16. 13. 11.  1.  0.]\n",
      " [ 0.  0. 16. 15. 12. 16.  1.  0.]\n",
      " [ 0.  3. 16.  7.  0. 13.  6.  0.]\n",
      " [ 0.  4. 16.  0.  0. 10.  8.  0.]\n",
      " [ 0.  8. 16.  0.  0. 14.  6.  0.]\n",
      " [ 0.  5. 16.  7.  9. 16.  5.  0.]\n",
      " [ 0.  1. 15. 16. 16. 16.  1.  0.]\n",
      " [ 0.  0.  6. 16. 14.  6.  0.  0.]]\n",
      "[0]\n",
      "[ 0.  0.  6. 16. 13. 11.  1.  0.  0.  0. 16. 15. 12. 16.  1.  0.  0.  3.\n",
      " 16.  7.  0. 13.  6.  0.  0.  4. 16.  0.  0. 10.  8.  0.  0.  8. 16.  0.\n",
      "  0. 14.  6.  0.  0.  5. 16.  7.  9. 16.  5.  0.  0.  1. 15. 16. 16. 16.\n",
      "  1.  0.  0.  0.  6. 16. 14.  6.  0.  0.]\n"
     ]
    },
    {
     "data": {
      "text/plain": [
       "<matplotlib.image.AxesImage at 0xced6e10>"
      ]
     },
     "execution_count": 88,
     "metadata": {},
     "output_type": "execute_result"
    },
    {
     "data": {
      "image/png": "[encoded data removed]",
      "text/plain": [
       "<matplotlib.figure.Figure at 0xc836198>"
      ]
     },
     "metadata": {},
     "output_type": "display_data"
    }
   ],
   "source": [
    "# 训练数字识别器，预测图像表示的数字\n",
    "from sklearn import datasets\n",
    "digits = datasets.load_digits()\n",
    "# print(digits.DESCR)\n",
    "\n",
    "import matplotlib.pyplot as plt\n",
    "# plt.imshow(digits.images[1791],cmap=plt.cm.gray_r,interpolation='nearest')\n",
    "# print(digits.data[1791].shape)\n",
    "# print(digits.target)\n",
    "# print(digits.target.size)\n",
    "# print(digits.target[1791]) # 样本值\n",
    "# print(digits.data[1791])\n",
    "import numpy as np\n",
    "x = np.array(digits.data[1791]) # (64,)\n",
    "x= x.reshape(8,8) # 16度灰 0 -> 16: 白 -> 黑\n",
    "# print(x)\n",
    "# digits.data 是表示数字图像的64个数字，digits.target 是对应的一个数字\n",
    "# 64个数字是由图像的8*8个16度灰度像素组成的。\n",
    "\n",
    "from sklearn import svm #向量分析\n",
    "svc = svm.SVC(gamma=0.001, C=100.)\n",
    "svc.fit(digits.data[1:1790], digits.target[1:1790]) #训练估计器\n",
    "\n",
    "\n",
    "svm.SVC(C=100.0, cache_size=200, class_weight=None, coef0=0.0, degree=3, \n",
    "    gamma=0.01, kernel='rbf', max_iter=-1, probability=False, \n",
    "    random_state=None, shrinking=True, tol=0.001, verbose=False)\n",
    "#print(svc.predict(digits.data[1791:1796])) # 预测值\n",
    "print(digits.target[1791:1796]) # 原库值\n",
    "\n",
    "test = []\n",
    "test.append(digits.data[1793]) # 根据data库里的数字造一个要求识别的数字的矩阵。\n",
    "test = np.array(test)\n",
    "print(test.reshape(8,8))\n",
    "print(svc.predict(test)) # 预测结果的数字\n",
    "print(digits.data[1793])\n",
    "plt.imshow(digits.images[1793],cmap=plt.cm.gray_r,interpolation='nearest') # 画16色8*8灰度图像。\n",
    "\n"
   ]
  },
  {
   "cell_type": "code",
   "execution_count": 45,
   "metadata": {},
   "outputs": [
    {
     "name": "stdout",
     "output_type": "stream",
     "text": [
      "[4 9 0 8 9]\n",
      "[[ 0.  0.  0. 14. 15. 13.  1.  0.  0.  0. 16. 15. 12. 16.  1.  0.  0.  3.\n",
      "  16.  7.  0. 13.  6.  0.  0.  4. 16. 16. 16. 10.  8.  0.  0.  8. 16. 15.\n",
      "   0. 14.  6.  0.  0.  5. 16.  7.  9. 16.  5.  0.  0.  1. 15. 16. 16. 16.\n",
      "   1.  0.  0.  0.  6. 16. 14.  6.  0.  0.]]\n",
      "[6]\n"
     ]
    },
    {
     "data": {
      "text/plain": [
       "<matplotlib.image.AxesImage at 0xc2a4128>"
      ]
     },
     "execution_count": 45,
     "metadata": {},
     "output_type": "execute_result"
    },
    {
     "data": {
      "image/png": "[encoded data removed]",
      "text/plain": [
       "<matplotlib.figure.Figure at 0xc19f160>"
      ]
     },
     "metadata": {},
     "output_type": "display_data"
    }
   ],
   "source": [
    "# 练习用--不能在看书笔记运行结果正确的单元中练习修改，容易引起错误而返不回去，而且参考书已经找不到了。\n",
    "# 训练数字识别器，预测图像表示的数字\n",
    "from sklearn import datasets\n",
    "digits = datasets.load_digits()\n",
    "# print(digits.DESCR)\n",
    "\n",
    "import matplotlib.pyplot as plt\n",
    "# plt.imshow(digits.images[1791],cmap=plt.cm.gray_r,interpolation='nearest')\n",
    "# print(digits.data[1791].shape)\n",
    "# print(digits.target)\n",
    "# print(digits.target.size)\n",
    "# print(digits.target[1791]) # 样本值\n",
    "# print(digits.data[1791])\n",
    "import numpy as np\n",
    "x = np.array(digits.data[1791]) # (64,)\n",
    "x= x.reshape(8,8) # 16度灰 0 -> 16: 白 -> 黑\n",
    "# print(x)\n",
    "# digits.data 是表示数字图像的64个数字，digits.target 是对应的一个数字\n",
    "# 64个数字是由图像的8*8个16度灰度像素组成的。\n",
    "\n",
    "from sklearn import svm #向量分析\n",
    "svc = svm.SVC(gamma=0.001, C=100.)\n",
    "svc.fit(digits.data[1:1790], digits.target[1:1790]) #训练估计器\n",
    "\n",
    "\n",
    "svm.SVC(C=100.0, cache_size=200, class_weight=None, coef0=0.0, degree=3, \n",
    "    gamma=0.01, kernel='rbf', max_iter=-1, probability=False, \n",
    "    random_state=None, shrinking=True, tol=0.001, verbose=False)\n",
    "#print(svc.predict(digits.data[1791:1796])) # 预测值\n",
    "print(digits.target[1791:1796]) # 原库值\n",
    "\n",
    "test= [[ 0. ,  0. ,  0. , 14. , 15. , 13. ,  1. ,  0. ,  0. ,  0. , 16. , 15. , 12. , 16. ,  1. ,  0. ,  0. ,  3. ,\n",
    "  16. ,  7. ,  0. , 13. ,  6. ,  0. ,  0. ,  4. , 16. ,  16. ,  16. , 10. ,  8. ,  0. ,  0. ,  8. , 16. ,  15. ,\n",
    "   0. , 14. ,  6. ,  0. ,  0. ,  5. , 16. ,  7. ,  9. , 16. ,  5. ,  0. ,  0. ,  1. , 15. , 16. , 16. , 16. ,\n",
    "   1. ,  0. ,  0. ,  0. ,  6. , 16. , 14. ,  6. ,  0. ,  0. ]]\n",
    "test = np.array(test)\n",
    "\n",
    "#test = digits.data[1793] #[]\n",
    "# test.append(digits.data[1793]) # 根据data库里的数字造一个要求识别的数字的矩阵。\n",
    "# test = np.array(test) # [[...]]\n",
    "print(test)\n",
    "# test = test.reshape(1, -1) # [[...]] # OK\n",
    "# \"Reshape your data either using array.reshape(-1, 1)\n",
    "# if your data has a single feature or array.reshape(1, -1) \n",
    "# if it contains a single sample.\"\n",
    "# test = test.reshape(8, 8) #[8 * 8]\n",
    "# print(test)\n",
    "# print(digits.data[1793].reshape(8,8)) # 原始数据\n",
    "# print(test.reshape(8,8)) # 测试用数据\n",
    "print(svc.predict(test)) # 预测结果的数字 做出来的test可以显示图像，不能预测。\n",
    "# print(digits.target[1793]) # 原始目标值 \n",
    "test = test.reshape(8, 8) #[8 * 8]\n",
    "plt.imshow(test,cmap=plt.cm.gray_r,interpolation='nearest') # 画16色8*8灰度图像。digits.images[1793]\n",
    "#plt.imshow(test,cmap='binary',interpolation='none',extent=[0,7,0,7]) # cmap='binary'灰，extent=8*8"
   ]
  },
  {
   "cell_type": "code",
   "execution_count": 14,
   "metadata": {},
   "outputs": [
    {
     "name": "stdout",
     "output_type": "stream",
     "text": [
      "Optical Recognition of Handwritten Digits Data Set\n",
      "===================================================\n",
      "\n",
      "Notes\n",
      "-----\n",
      "Data Set Characteristics:\n",
      "    :Number of Instances: 5620\n",
      "    :Number of Attributes: 64\n",
      "    :Attribute Information: 8x8 image of integer pixels in the range 0..16.\n",
      "    :Missing Attribute Values: None\n",
      "    :Creator: E. Alpaydin (alpaydin '@' boun.edu.tr)\n",
      "    :Date: July; 1998\n",
      "\n",
      "This is a copy of the test set of the UCI ML hand-written digits datasets\n",
      "http://archive.ics.uci.edu/ml/datasets/Optical+Recognition+of+Handwritten+Digits\n",
      "\n",
      "The data set contains images of hand-written digits: 10 classes where\n",
      "each class refers to a digit.\n",
      "\n",
      "Preprocessing programs made available by NIST were used to extract\n",
      "normalized bitmaps of handwritten digits from a preprinted form. From a\n",
      "total of 43 people, 30 contributed to the training set and different 13\n",
      "to the test set. 32x32 bitmaps are divided into nonoverlapping blocks of\n",
      "4x4 and the number of on pixels are counted in each block. This generates\n",
      "an input matrix of 8x8 where each element is an integer in the range\n",
      "0..16. This reduces dimensionality and gives invariance to small\n",
      "distortions.\n",
      "\n",
      "For info on NIST preprocessing routines, see M. D. Garris, J. L. Blue, G.\n",
      "T. Candela, D. L. Dimmick, J. Geist, P. J. Grother, S. A. Janet, and C.\n",
      "L. Wilson, NIST Form-Based Handprint Recognition System, NISTIR 5469,\n",
      "1994.\n",
      "\n",
      "References\n",
      "----------\n",
      "  - C. Kaynak (1995) Methods of Combining Multiple Classifiers and Their\n",
      "    Applications to Handwritten Digit Recognition, MSc Thesis, Institute of\n",
      "    Graduate Studies in Science and Engineering, Bogazici University.\n",
      "  - E. Alpaydin, C. Kaynak (1998) Cascading Classifiers, Kybernetika.\n",
      "  - Ken Tang and Ponnuthurai N. Suganthan and Xi Yao and A. Kai Qin.\n",
      "    Linear dimensionalityreduction using relevance weighted LDA. School of\n",
      "    Electrical and Electronic Engineering Nanyang Technological University.\n",
      "    2005.\n",
      "  - Claudio Gentile. A New Approximate Maximal Margin Classification\n",
      "    Algorithm. NIPS. 2000.\n",
      "\n",
      "predict:  [4 9 0 8 9]\n",
      "target:  [4 9 0 8 9]\n"
     ]
    },
    {
     "data": {
      "image/png": "[encoded data removed]",
      "text/plain": [
       "<matplotlib.figure.Figure at 0xa487f60>"
      ]
     },
     "metadata": {},
     "output_type": "display_data"
    }
   ],
   "source": [
    "# 《Python 数据分析实战》\n",
    "# 第11章 识别手体写数字\n",
    "# 11.2 用 scikit-learn 识别手写体数字\n",
    "# 11.3 Digits 数据集\n",
    "\n",
    "from sklearn import svm\n",
    "svc = svm.SVC(gamma=0.001, C=100.) # 定义估计器\n",
    "\n",
    "from sklearn import datasets\n",
    "digits = datasets.load_digits()\n",
    "print(digits.DESCR) # 读取数据集自带的说明\n",
    "digits.images[0] # 8*8 0-白，15-黑。\n",
    "\n",
    "import matplotlib.pyplot as plt\n",
    "%matplotlib inline\n",
    "plt.title('digits.images[1791]')\n",
    "plt.imshow(digits.images[1791], cmap=plt.cm.gray_r, interpolation='nearest')\n",
    "digits.target\n",
    "digits.target.size\n",
    " \n",
    "svc.fit(digits.data[1:1790], digits.target[1:1790]) # 估计器学习，用svc的fit方法拟合digits的data和target\n",
    "# 输出训练得到的估计器,在NoteBook上显示,会被以后的信息覆盖看不到。\n",
    "\"\"\"\n",
    "SVC(C=100.0, cache_size=200, class_weight=None, coef0=0.0,\n",
    "  decision_function_shape='ovr', degree=3, gamma=0.001, kernel='rbf',\n",
    "  max_iter=-1, probability=False, random_state=None, shrinking=True,\n",
    "  tol=0.001, verbose=False)\n",
    "\"\"\"\n",
    "print('predict: ', svc.predict(digits.data[1791:1796])) # 预测数据集的验证集的6个数字\n",
    "print('target: ',digits.target[1791:1796]) # 与验证集各图像表示的数字对比"
   ]
  },
  {
   "cell_type": "code",
   "execution_count": 3,
   "metadata": {},
   "outputs": [],
   "source": [
    "# 清晰化图像\n",
    "# import cv2.cv2def\n",
    "import cv2\n",
    "def getImageVar(imgPath):\n",
    "    image = cv2.imread(imgPath)\n",
    "    img2gray = cv2.cvtColor(image, cv2.COLOR_BGR2GRAY)\n",
    "    imageVar = cv2.Laplacian(img2gray, cv2.CV_64F).var()\n",
    "    return imageVar\n",
    "def showfug(img):\n",
    "    cv2.imshow('img',img)\n",
    "    c = cv2.waitKey()\n",
    "imgPath = 'capture_number.jpg'\n",
    "# image = cv2.imread(imgPath)\n",
    "# cv2.imshow('Image', image)\n",
    "# showfug(imgPath)\n",
    "image = getImageVar(imgPath)\n",
    "# cv2.imshow('Image', image)\n",
    "#c = cv2.waitKey()"
   ]
  },
  {
   "cell_type": "code",
   "execution_count": null,
   "metadata": {},
   "outputs": [],
   "source": []
  }
 ],
 "metadata": {
  "kernelspec": {
   "display_name": "Python 3",
   "language": "python",
   "name": "python3"
  },
  "language_info": {
   "codemirror_mode": {
    "name": "ipython",
    "version": 3
   },
   "file_extension": ".py",
   "mimetype": "text/x-python",
   "name": "python",
   "nbconvert_exporter": "python",
   "pygments_lexer": "ipython3",
   "version": "3.6.4"
  }
 },
 "nbformat": 4,
 "nbformat_minor": 2
}
